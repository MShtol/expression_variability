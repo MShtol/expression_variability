{
 "cells": [
  {
   "cell_type": "markdown",
   "metadata": {},
   "source": [
    "### Processing of GTEx data and calculation of statistics\n",
    "\n",
    "In this notebook you can find:\n",
    "- script for processing GTEx tissue expression data\n",
    "- calculation of variability statistics\n",
    "- subsetting statistics for genes with significant SNPs\n",
    "- and comparison of this statistics for general set and subset"
   ]
  },
  {
   "cell_type": "code",
   "execution_count": 129,
   "metadata": {},
   "outputs": [],
   "source": [
    "import pandas as pd\n",
    "import numpy as np\n",
    "from datetime import datetime\n",
    "import re\n",
    "from os import walk\n",
    "import seaborn as sns\n",
    "import scipy\n",
    "import matplotlib.pyplot as plt"
   ]
  },
  {
   "cell_type": "markdown",
   "metadata": {},
   "source": [
    "### GTEx precessing and calculation of statistics (time consuming)\n",
    "\n",
    "Execute this block for sake of reproducibility or modification.\n",
    "Otherwise, in the next block below processed data will imported from file"
   ]
  },
  {
   "cell_type": "code",
   "execution_count": 43,
   "metadata": {},
   "outputs": [],
   "source": [
    "def calc_range(tpm, samples_n):\n",
    "    \"\"\"This function recieves list of tpm for specific gene in file\n",
    "    and returns range normalized by median.\n",
    "    Function calculates two variants - 'usual' range\n",
    "    and 'centered' range for tpm with trimmed 5% values from each end.\n",
    "    \"\"\"\n",
    "    q_05, q_95 = int(samples_n * 0.05 - 1), int(samples_n * 0.95 - 1)  # Indeces of element near 5% and 95% quantiles\n",
    "    tpm_min, tpm_max, tpm_median = np.min(tpm), np.max(tpm), np.median(tpm)\n",
    "    tpmc_min, tpmc_max, tpmc_median = np.min(tpmc), np.max(tpmc), np.median(tpmc)\n",
    "    if tpm_median == 0:\n",
    "        tpm_range = 0  # To avoid ZeroDivision\n",
    "    else:\n",
    "        tpm_range = (tpm_max-tpm_min)/tpm_median\n",
    "    if tpmc_median == 0:\n",
    "        tpm_rangec = 0 # To avoid ZeroDivision\n",
    "    else:\n",
    "        tpm_rangec = (tpmc_max-tpmc_min)/tpmc_median\n",
    "    return tpm_range, tpm_rangec\n",
    "\n",
    "\n",
    "def calc_tissue_stats(ranges_all, rangesc_all):\n",
    "    \"\"\"This functions recieves ranges for each tissue and each gene.\n",
    "    Calculates inter-tissue max range and mean range.\n",
    "    Returns dataframe with respective stats.\n",
    "    \n",
    "    \"\"\"\n",
    "    ranges_all_arr = np.array(ranges_all)\n",
    "    rangesc_all_arr = np.array(rangesc_all)\n",
    "    \n",
    "    ranges_mean = ranges_all_arr.mean(axis=0)\n",
    "    ranges_max = ranges_all_arr.max(axis=0)\n",
    "    \n",
    "    rangesc_mean = rangesc_all_arr.mean(axis=0)\n",
    "    rangesc_max = rangesc_all_arr.max(axis=0)\n",
    "    \n",
    "    with open('gene_names.txt') as f:  # Gene names parsed from any GTEx TPM file. Order is preserved\n",
    "        names = f.readline().split()\n",
    "    \n",
    "    tissue_stat_dict = {'names':names, 'ranges_mean':ranges_mean, 'ranges_max':ranges_max,\n",
    "                        'rangesc_mean':rangesc_mean, 'rangesc_max':rangesc_max}\n",
    "    tissue_stats = pd.DataFrame(tissue_stat_dict).set_index('names')\n",
    "    tissue_stats = tissue_stats[(tissue_stats['rangesc_max'] != 0)]\n",
    "    return tissue_stats\n",
    "\n",
    "filenames = next(walk('./gtex_tissue/'), (None, None, []))[2]  # [] if no file/ Filenames of per-tissue TPMs\n",
    "\n",
    "ranges_all, rangesc_all = [], []\n",
    "\n",
    "print(\"now is\", datetime.now())\n",
    "\n",
    "for filename in filenames:\n",
    "    print(filename)\n",
    "    ranges, rangesc = [],[]\n",
    "\n",
    "    # Per-tissue tpm data parsing\n",
    "    with open(f'./gtex_tissue/{filename}') as f:\n",
    "        f.readline()\n",
    "        gene_n, samples_n, *_ = list(map(int, f.readline().split()))\n",
    "        f.readline()\n",
    "        ranges, rangesc = [],[]\n",
    "        for line in f:\n",
    "            _, ids, name, *tpm = line.split()\n",
    "            tpm = sorted(list(map(float, tpm)))\n",
    "            tpm_range, tpm_rangec = calc_range(tpm, samples_n)\n",
    "            ranges += [tpm_range]\n",
    "            rangesc += [tpm_rangec]\n",
    "        ranges_all.append(ranges)\n",
    "        rangesc_all.append(rangesc)\n",
    "        \n",
    "print(\"now is\", datetime.now())  # It takes approximately 30-40 minutes with my PC\n",
    "\n",
    "tissue_stats = calc_tissue_stats(ranges_all, rangesc_all)\n",
    "tissue_stats.to_csv('tpm_tissue_stats.tsv', sep='\\t')"
   ]
  },
  {
   "cell_type": "markdown",
   "metadata": {},
   "source": [
    "## Working with precomputed stats"
   ]
  },
  {
   "cell_type": "code",
   "execution_count": 45,
   "metadata": {},
   "outputs": [
    {
     "data": {
      "text/html": [
       "<div>\n",
       "<style scoped>\n",
       "    .dataframe tbody tr th:only-of-type {\n",
       "        vertical-align: middle;\n",
       "    }\n",
       "\n",
       "    .dataframe tbody tr th {\n",
       "        vertical-align: top;\n",
       "    }\n",
       "\n",
       "    .dataframe thead th {\n",
       "        text-align: right;\n",
       "    }\n",
       "</style>\n",
       "<table border=\"1\" class=\"dataframe\">\n",
       "  <thead>\n",
       "    <tr style=\"text-align: right;\">\n",
       "      <th></th>\n",
       "      <th>ranges_mean</th>\n",
       "      <th>ranges_max</th>\n",
       "      <th>rangesc_mean</th>\n",
       "      <th>rangesc_max</th>\n",
       "    </tr>\n",
       "    <tr>\n",
       "      <th>names</th>\n",
       "      <th></th>\n",
       "      <th></th>\n",
       "      <th></th>\n",
       "      <th></th>\n",
       "    </tr>\n",
       "  </thead>\n",
       "  <tbody>\n",
       "    <tr>\n",
       "      <th>DDX11L1</th>\n",
       "      <td>0.135884</td>\n",
       "      <td>7.337740</td>\n",
       "      <td>0.067357</td>\n",
       "      <td>3.637293</td>\n",
       "    </tr>\n",
       "    <tr>\n",
       "      <th>WASH7P</th>\n",
       "      <td>4.249820</td>\n",
       "      <td>13.365275</td>\n",
       "      <td>1.843303</td>\n",
       "      <td>2.491830</td>\n",
       "    </tr>\n",
       "    <tr>\n",
       "      <th>MIR1302-2HG</th>\n",
       "      <td>4.967308</td>\n",
       "      <td>53.145251</td>\n",
       "      <td>0.919969</td>\n",
       "      <td>10.858757</td>\n",
       "    </tr>\n",
       "    <tr>\n",
       "      <th>OR4G4P</th>\n",
       "      <td>13.334294</td>\n",
       "      <td>59.773014</td>\n",
       "      <td>2.929344</td>\n",
       "      <td>18.812903</td>\n",
       "    </tr>\n",
       "    <tr>\n",
       "      <th>OR4G11P</th>\n",
       "      <td>17.203197</td>\n",
       "      <td>56.460177</td>\n",
       "      <td>3.272067</td>\n",
       "      <td>6.275862</td>\n",
       "    </tr>\n",
       "    <tr>\n",
       "      <th>...</th>\n",
       "      <td>...</td>\n",
       "      <td>...</td>\n",
       "      <td>...</td>\n",
       "      <td>...</td>\n",
       "    </tr>\n",
       "    <tr>\n",
       "      <th>MT-ND6</th>\n",
       "      <td>4.643039</td>\n",
       "      <td>12.596468</td>\n",
       "      <td>2.445661</td>\n",
       "      <td>5.783787</td>\n",
       "    </tr>\n",
       "    <tr>\n",
       "      <th>MT-TE</th>\n",
       "      <td>23.092879</td>\n",
       "      <td>162.435784</td>\n",
       "      <td>4.866891</td>\n",
       "      <td>11.532416</td>\n",
       "    </tr>\n",
       "    <tr>\n",
       "      <th>MT-CYB</th>\n",
       "      <td>2.026497</td>\n",
       "      <td>9.531497</td>\n",
       "      <td>1.031401</td>\n",
       "      <td>2.121694</td>\n",
       "    </tr>\n",
       "    <tr>\n",
       "      <th>MT-TT</th>\n",
       "      <td>207.667201</td>\n",
       "      <td>2609.625668</td>\n",
       "      <td>10.854944</td>\n",
       "      <td>72.852613</td>\n",
       "    </tr>\n",
       "    <tr>\n",
       "      <th>MT-TP</th>\n",
       "      <td>111.465812</td>\n",
       "      <td>788.449295</td>\n",
       "      <td>9.626048</td>\n",
       "      <td>54.842857</td>\n",
       "    </tr>\n",
       "  </tbody>\n",
       "</table>\n",
       "<p>44205 rows × 4 columns</p>\n",
       "</div>"
      ],
      "text/plain": [
       "             ranges_mean   ranges_max  rangesc_mean  rangesc_max\n",
       "names                                                           \n",
       "DDX11L1         0.135884     7.337740      0.067357     3.637293\n",
       "WASH7P          4.249820    13.365275      1.843303     2.491830\n",
       "MIR1302-2HG     4.967308    53.145251      0.919969    10.858757\n",
       "OR4G4P         13.334294    59.773014      2.929344    18.812903\n",
       "OR4G11P        17.203197    56.460177      3.272067     6.275862\n",
       "...                  ...          ...           ...          ...\n",
       "MT-ND6          4.643039    12.596468      2.445661     5.783787\n",
       "MT-TE          23.092879   162.435784      4.866891    11.532416\n",
       "MT-CYB          2.026497     9.531497      1.031401     2.121694\n",
       "MT-TT         207.667201  2609.625668     10.854944    72.852613\n",
       "MT-TP         111.465812   788.449295      9.626048    54.842857\n",
       "\n",
       "[44205 rows x 4 columns]"
      ]
     },
     "execution_count": 45,
     "metadata": {},
     "output_type": "execute_result"
    }
   ],
   "source": [
    "tissue_stats = pd.read_csv('tmp_tissue_stats.tsv', sep='\\t', index_col='names')\n",
    "tissue_stats"
   ]
  },
  {
   "cell_type": "markdown",
   "metadata": {},
   "source": [
    "#### Subsetting stats for genes with significant SNPs"
   ]
  },
  {
   "cell_type": "code",
   "execution_count": 111,
   "metadata": {
    "scrolled": true
   },
   "outputs": [
    {
     "data": {
      "text/html": [
       "<div>\n",
       "<style scoped>\n",
       "    .dataframe tbody tr th:only-of-type {\n",
       "        vertical-align: middle;\n",
       "    }\n",
       "\n",
       "    .dataframe tbody tr th {\n",
       "        vertical-align: top;\n",
       "    }\n",
       "\n",
       "    .dataframe thead th {\n",
       "        text-align: right;\n",
       "    }\n",
       "</style>\n",
       "<table border=\"1\" class=\"dataframe\">\n",
       "  <thead>\n",
       "    <tr style=\"text-align: right;\">\n",
       "      <th></th>\n",
       "      <th>ranges_mean</th>\n",
       "      <th>ranges_max</th>\n",
       "      <th>rangesc_mean</th>\n",
       "      <th>rangesc_max</th>\n",
       "    </tr>\n",
       "    <tr>\n",
       "      <th>name</th>\n",
       "      <th></th>\n",
       "      <th></th>\n",
       "      <th></th>\n",
       "      <th></th>\n",
       "    </tr>\n",
       "  </thead>\n",
       "  <tbody>\n",
       "    <tr>\n",
       "      <th>DAD1</th>\n",
       "      <td>1.868327</td>\n",
       "      <td>4.279072</td>\n",
       "      <td>0.920998</td>\n",
       "      <td>2.058080</td>\n",
       "    </tr>\n",
       "    <tr>\n",
       "      <th>SYT10</th>\n",
       "      <td>23.715135</td>\n",
       "      <td>282.875000</td>\n",
       "      <td>5.924153</td>\n",
       "      <td>31.743590</td>\n",
       "    </tr>\n",
       "    <tr>\n",
       "      <th>TSC22D4</th>\n",
       "      <td>2.204160</td>\n",
       "      <td>4.586108</td>\n",
       "      <td>1.116311</td>\n",
       "      <td>2.259756</td>\n",
       "    </tr>\n",
       "    <tr>\n",
       "      <th>HMGB3P18</th>\n",
       "      <td>0.172080</td>\n",
       "      <td>6.372906</td>\n",
       "      <td>0.110291</td>\n",
       "      <td>3.036321</td>\n",
       "    </tr>\n",
       "    <tr>\n",
       "      <th>MYH11</th>\n",
       "      <td>25.169543</td>\n",
       "      <td>160.652200</td>\n",
       "      <td>5.135803</td>\n",
       "      <td>32.529540</td>\n",
       "    </tr>\n",
       "    <tr>\n",
       "      <th>...</th>\n",
       "      <td>...</td>\n",
       "      <td>...</td>\n",
       "      <td>...</td>\n",
       "      <td>...</td>\n",
       "    </tr>\n",
       "    <tr>\n",
       "      <th>RP4-640H8.2</th>\n",
       "      <td>0.483208</td>\n",
       "      <td>20.223714</td>\n",
       "      <td>0.216525</td>\n",
       "      <td>6.831307</td>\n",
       "    </tr>\n",
       "    <tr>\n",
       "      <th>SLC35F1</th>\n",
       "      <td>10.858774</td>\n",
       "      <td>100.421941</td>\n",
       "      <td>3.336122</td>\n",
       "      <td>14.700777</td>\n",
       "    </tr>\n",
       "    <tr>\n",
       "      <th>SIPA1L1</th>\n",
       "      <td>2.683402</td>\n",
       "      <td>9.304599</td>\n",
       "      <td>1.264015</td>\n",
       "      <td>2.652400</td>\n",
       "    </tr>\n",
       "    <tr>\n",
       "      <th>TTN</th>\n",
       "      <td>35.735996</td>\n",
       "      <td>482.455170</td>\n",
       "      <td>2.693372</td>\n",
       "      <td>31.582946</td>\n",
       "    </tr>\n",
       "    <tr>\n",
       "      <th>ZAN</th>\n",
       "      <td>20.315077</td>\n",
       "      <td>118.631579</td>\n",
       "      <td>4.462073</td>\n",
       "      <td>9.368421</td>\n",
       "    </tr>\n",
       "  </tbody>\n",
       "</table>\n",
       "<p>87 rows × 4 columns</p>\n",
       "</div>"
      ],
      "text/plain": [
       "             ranges_mean  ranges_max  rangesc_mean  rangesc_max\n",
       "name                                                           \n",
       "DAD1            1.868327    4.279072      0.920998     2.058080\n",
       "SYT10          23.715135  282.875000      5.924153    31.743590\n",
       "TSC22D4         2.204160    4.586108      1.116311     2.259756\n",
       "HMGB3P18        0.172080    6.372906      0.110291     3.036321\n",
       "MYH11          25.169543  160.652200      5.135803    32.529540\n",
       "...                  ...         ...           ...          ...\n",
       "RP4-640H8.2     0.483208   20.223714      0.216525     6.831307\n",
       "SLC35F1        10.858774  100.421941      3.336122    14.700777\n",
       "SIPA1L1         2.683402    9.304599      1.264015     2.652400\n",
       "TTN            35.735996  482.455170      2.693372    31.582946\n",
       "ZAN            20.315077  118.631579      4.462073     9.368421\n",
       "\n",
       "[87 rows x 4 columns]"
      ]
     },
     "execution_count": 111,
     "metadata": {},
     "output_type": "execute_result"
    }
   ],
   "source": [
    "snp_genes =[]\n",
    "with open('SNPS_closest_genes.bed') as f:  # Parsing gene names\n",
    "     for line in f:\n",
    "        snp_genes += [line.split()[-1]]\n",
    "\n",
    "for i in range(len(snp_genes)-1, -1, -1):  # Deleting SNP genes with missing expression data\n",
    "    if snp_genes[i] not in tissue_stats.index:\n",
    "        del snp_genes[i]\n",
    "snp_genes = list(set(snp_genes))  # Deduplication\n",
    "\n",
    "\n",
    "rangesc_mean = []\n",
    "ranges_mean = []\n",
    "rangesc_max = []\n",
    "ranges_max = []\n",
    "for snp_gene in snp_genes:  # subsetting stats from big table\n",
    "    rangesc_mean += [tissue_stats.loc[snp_gene,'rangesc_mean']]\n",
    "    ranges_mean += [tissue_stats.loc[snp_gene,'ranges_mean']]\n",
    "    rangesc_max += [tissue_stats.loc[snp_gene,'rangesc_max']]\n",
    "    ranges_max += [tissue_stats.loc[snp_gene,'ranges_max']]\n",
    "        \n",
    "snp_gene_stats = pd.DataFrame({'name':snp_genes, 'ranges_mean':ranges_mean,\n",
    "                       'ranges_max':ranges_max,'rangesc_mean':rangesc_mean,\n",
    "                       'rangesc_max':rangesc_max}).set_index('name')\n",
    "\n",
    "snp_gene_stats"
   ]
  },
  {
   "cell_type": "code",
   "execution_count": 140,
   "metadata": {},
   "outputs": [
    {
     "data": {
      "text/plain": [
       "Ttest_indResult(statistic=2.8065833537201703, pvalue=0.006907539978084667)"
      ]
     },
     "execution_count": 140,
     "metadata": {},
     "output_type": "execute_result"
    },
    {
     "data": {
      "image/png": "[encoded data removed]",
      "text/plain": [
       "<Figure size 432x288 with 1 Axes>"
      ]
     },
     "metadata": {
      "needs_background": "light"
     },
     "output_type": "display_data"
    }
   ],
   "source": [
    "def draw_violin(snp_gene_stats, tissue_stats, feature, trimm=0):\n",
    "    \"\"\"This function recieves dataframes with stats\n",
    "    for SNP genes and alltogether genes, feature for plotting and comparison\n",
    "    and trimm value. Values in dataframes are sorted by feature and trimmed\n",
    "    from both sides by trimm value.\n",
    "    After that values are normalized by range.\n",
    "    Distribution plots for comparison of variables are plotted.\n",
    "    t-test for variables with unequal variance is performed.\n",
    "    Function return t-test result and prints plot.\n",
    "    \n",
    "    \"\"\"\n",
    "    tissue_stats = tissue_stats.sort_values(by=[feature]).iloc[\n",
    "        int(trimm*len(tissue_stats)):int((1-trimm)*len(tissue_stats))]\n",
    "    \n",
    "    feature_col = tissue_stats.loc[:,feature]\n",
    "    stand_min = feature_col.min()\n",
    "    stand_max = feature_col.std()\n",
    "    tissue_stats.loc[:,feature] = (feature_col-stand_min)/ (stand_max - stand_min)\n",
    "    \n",
    "    snp_gene_stats = snp_gene_stats.sort_values(by=[feature]).iloc[\n",
    "        int(trimm*len(result)):int((1-trimm)*len(result))]\n",
    "    \n",
    "    feature_col = snp_gene_stats.loc[:,feature]\n",
    "    stand_min = feature_col.min()\n",
    "    stand_max = feature_col.std()\n",
    "    snp_gene_stats.loc[:,feature] = (feature_col-stand_min)/ (stand_max - stand_min)\n",
    "    \n",
    "    # concatenate single columns from dataframes in long format\n",
    "    comb_df = pd.concat([snp_gene_stats[[feature]].assign(orig='snp_genes'),\n",
    "                     tissue_stats[[feature]].assign(orig='total')], axis=0)\n",
    "    \n",
    "    comb_df = comb_df.rename(columns={'orig':'set'})\n",
    "    \n",
    "    ax = sns.violinplot(x='set',y=feature, data=comb_df)\n",
    "    ax.set(ylim=(0, None))\n",
    "    plt.title(f'comparison of {feature}')\n",
    "    ttest_res = scipy.stats.ttest_ind(comb_df.loc[\n",
    "        comb_df['set'] == 'snp_genes',feature],comb_df.loc[\n",
    "        comb_df['set'] == 'total',feature],equal_var=False)\n",
    "    return ttest_res\n",
    "\n",
    "draw_violin(snp_gene_stats, tissue_stats, 'ranges_mean', trimm=0.1)"
   ]
  },
  {
   "cell_type": "code",
   "execution_count": 141,
   "metadata": {},
   "outputs": [
    {
     "data": {
      "text/plain": [
       "Ttest_indResult(statistic=4.308445461975631, pvalue=6.83051521303779e-05)"
      ]
     },
     "execution_count": 141,
     "metadata": {},
     "output_type": "execute_result"
    },
    {
     "data": {
      "image/png": "[encoded data removed]",
      "text/plain": [
       "<Figure size 432x288 with 1 Axes>"
      ]
     },
     "metadata": {
      "needs_background": "light"
     },
     "output_type": "display_data"
    }
   ],
   "source": [
    "draw_violin(snp_gene_stats, tissue_stats, 'rangesc_mean', trimm=0.1)"
   ]
  },
  {
   "cell_type": "code",
   "execution_count": 142,
   "metadata": {},
   "outputs": [
    {
     "data": {
      "text/plain": [
       "Ttest_indResult(statistic=2.8367451782339046, pvalue=0.006365441230775008)"
      ]
     },
     "execution_count": 142,
     "metadata": {},
     "output_type": "execute_result"
    },
    {
     "data": {
      "image/png": "[encoded data removed]",
      "text/plain": [
       "<Figure size 432x288 with 1 Axes>"
      ]
     },
     "metadata": {
      "needs_background": "light"
     },
     "output_type": "display_data"
    }
   ],
   "source": [
    "draw_violin(snp_gene_stats, tissue_stats, 'rangesc_max', trimm=0.1)"
   ]
  },
  {
   "cell_type": "code",
   "execution_count": 146,
   "metadata": {},
   "outputs": [
    {
     "data": {
      "text/plain": [
       "Ttest_indResult(statistic=1.914976634157551, pvalue=0.060688442698665315)"
      ]
     },
     "execution_count": 146,
     "metadata": {},
     "output_type": "execute_result"
    },
    {
     "data": {
      "image/png": "[encoded data removed]",
      "text/plain": [
       "<Figure size 432x288 with 1 Axes>"
      ]
     },
     "metadata": {
      "needs_background": "light"
     },
     "output_type": "display_data"
    }
   ],
   "source": [
    "draw_violin(snp_gene_stats, tissue_stats, 'ranges_max', trimm=0.1)"
   ]
  }
 ],
 "metadata": {
  "kernelspec": {
   "display_name": "Python 3",
   "language": "python",
   "name": "python3"
  },
  "language_info": {
   "codemirror_mode": {
    "name": "ipython",
    "version": 3
   },
   "file_extension": ".py",
   "mimetype": "text/x-python",
   "name": "python",
   "nbconvert_exporter": "python",
   "pygments_lexer": "ipython3",
   "version": "3.8.5"
  }
 },
 "nbformat": 4,
 "nbformat_minor": 4
}
