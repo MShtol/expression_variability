{
 "cells": [
  {
   "cell_type": "code",
   "execution_count": 3,
   "metadata": {},
   "outputs": [],
   "source": [
    "import pandas as pd"
   ]
  },
  {
   "cell_type": "markdown",
   "metadata": {},
   "source": [
    "**This script converts plink .clumped file to sorted .bed for bedtools**"
   ]
  },
  {
   "cell_type": "code",
   "execution_count": 82,
   "metadata": {},
   "outputs": [],
   "source": [
    "data_dict = {'CHR':[],\"START\":[],\"STOP\":[],\"SNP\":[],\"P\":[]}\n",
    "with open('SNP.clumped') as f:\n",
    "    f.readline()\n",
    "    for line in f:\n",
    "        data = line.split()\n",
    "        if data:\n",
    "            data_dict['CHR'].append(data[0])\n",
    "            data_dict['START'].append(int(data[3]))\n",
    "            data_dict['STOP'].append(int(data[3])+1)\n",
    "            data_dict['SNP'].append(data[2])\n",
    "            data_dict['P'].append(data[4])\n",
    "\n",
    "df = pd.DataFrame(data_dict).sort_values(['CHR', \"START\"])\n",
    "df.to_csv('SNPS.bed', sep='\\t', header=False, index=False)"
   ]
  },
  {
   "cell_type": "markdown",
   "metadata": {},
   "source": [
    "**This script converts genome annotation file gff3  to sorted .bed for bedtools**"
   ]
  },
  {
   "cell_type": "code",
   "execution_count": 4,
   "metadata": {},
   "outputs": [],
   "source": [
    "import re\n",
    "data_dict = {'CHR':[],\"START\":[],\"STOP\":[],\"GENE\":[]}\n",
    "with open('gencode.v19.annotation.gff3') as f:\n",
    "    [next(f) for i in range(7)]\n",
    "    for line in f:\n",
    "        if line.startswith(\"#\"):\n",
    "            continue\n",
    "        data = line.split()\n",
    "        if data:\n",
    "            data_dict['CHR'].append(data[0][3:])\n",
    "            data_dict['START'].append(int(data[3]))\n",
    "            data_dict['STOP'].append(int(data[4]))\n",
    "            data_dict['GENE'].append(re.findall('gene_name=(\\S*?);', data[8])[0])\n",
    "\n",
    "df = pd.DataFrame(data_dict).drop_duplicates('GENE').sort_values(['CHR', \"START\"])\n",
    "df.to_csv('genes.bed', sep='\\t', header=False, index=False)"
   ]
  }
 ],
 "metadata": {
  "kernelspec": {
   "display_name": "Python 3",
   "language": "python",
   "name": "python3"
  },
  "language_info": {
   "codemirror_mode": {
    "name": "ipython",
    "version": 3
   },
   "file_extension": ".py",
   "mimetype": "text/x-python",
   "name": "python",
   "nbconvert_exporter": "python",
   "pygments_lexer": "ipython3",
   "version": "3.8.5"
  }
 },
 "nbformat": 4,
 "nbformat_minor": 4
}
